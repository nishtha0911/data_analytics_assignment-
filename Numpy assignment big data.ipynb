{
 "cells": [
  {
   "cell_type": "markdown",
   "id": "ec7debcb",
   "metadata": {},
   "source": [
    "### NUMPY ASSIGNMENT\n",
    "Big Data Analytics and Business Intelligence\n",
    "(MCA203)\n",
    "NumPy\n",
    "1. Reverse the NumPy array: arr = np.array([1, 2, 3, 6, 4, 5]) )\n",
    "\n",
    "2. Compare the following numpy arrays: arr1 = np.array([[1, 2], [3, 4]])\n",
    "arr2 = np.array([[1, 2], [3, 4]])\n",
    "\n",
    "3. Find the most frequent value and their indice(s) in the following arrays:\n",
    "i. x = np.array([1,2,3,4,5,1,2,1,1,1])\n",
    "ii. y = np.array([1, 1, 1, 2, 3, 4, 2, 4, 3, 3, ])\n",
    "\n",
    "4. For the array gfg = np.matrix('[4, 1, 9; 12, 3, 1; 4, 5, 6]'),\n",
    "find i. Sum of all elements\n",
    "ii. Sum of all elements row-wise\n",
    "iii. Sum of all elements column-wise\n"
   ]
  },
  {
   "cell_type": "code",
   "execution_count": 2,
   "id": "a93b4d7e",
   "metadata": {},
   "outputs": [],
   "source": [
    "import numpy as np"
   ]
  },
  {
   "cell_type": "code",
   "execution_count": 3,
   "id": "9defe77b",
   "metadata": {},
   "outputs": [
    {
     "data": {
      "text/plain": [
       "array([1, 2, 3, 4, 5])"
      ]
     },
     "execution_count": 3,
     "metadata": {},
     "output_type": "execute_result"
    }
   ],
   "source": [
    "# 1.Reverse the NumPy array: arr = np.array([1, 2, 3, 6, 4, 5]) )\n",
    "arr=np.array([1,2,3,4,5])\n",
    "arr    "
   ]
  },
  {
   "cell_type": "code",
   "execution_count": 9,
   "id": "ba1ce534",
   "metadata": {},
   "outputs": [
    {
     "data": {
      "text/plain": [
       "array([5, 4, 3, 2, 1])"
      ]
     },
     "execution_count": 9,
     "metadata": {},
     "output_type": "execute_result"
    }
   ],
   "source": [
    "reverse_array=arr[::-1]\n",
    "reverse_array\n"
   ]
  },
  {
   "cell_type": "code",
   "execution_count": 11,
   "id": "67bd9fee",
   "metadata": {},
   "outputs": [
    {
     "data": {
      "text/plain": [
       "True"
      ]
     },
     "execution_count": 11,
     "metadata": {},
     "output_type": "execute_result"
    }
   ],
   "source": [
    "# 2. Compare the following numpy arrays: \n",
    "arr1 = np.array([[1, 2], [3, 4]])\n",
    "arr2 = np.array([[1, 2], [3, 4]])\n",
    "np.array_equal(arr1,arr2)"
   ]
  },
  {
   "cell_type": "code",
   "execution_count": 35,
   "id": "c009a127",
   "metadata": {},
   "outputs": [
    {
     "name": "stdout",
     "output_type": "stream",
     "text": [
      "For array x:\n",
      "Most frequent value: 1\n",
      "Indices: [0 5 7 8 9]\n",
      "\n",
      "For array y:\n",
      "Most frequent value: 1\n",
      "Indices: [0 1 2]\n"
     ]
    }
   ],
   "source": [
    "# 3. Find the most frequent value and their indice(s) in the following arrays:\n",
    "\n",
    "# i. x = np.array([1,2,3,4,5,1,2,1,1,1])\n",
    "x = np.array([1,2,3,4,5,1,2,1,1,1])\n",
    "# Find the most frequent value and its count in x\n",
    "unique_values_x, counts_x = np.unique(x, return_counts=True)\n",
    "most_frequent_value_x = unique_values_x[np.argmax(counts_x)]\n",
    "indices_x = np.where(x == most_frequent_value_x)[0]\n",
    "\n",
    "print(\"For array x:\")\n",
    "print(\"Most frequent value:\", most_frequent_value_x)\n",
    "print(\"Indices:\", indices_x)\n",
    "\n",
    "\n",
    "# ii. y = np.array([1, 1, 1, 2, 3, 4, 2, 4, 3, 3,])\n",
    "unique_values_y, counts_y = np.unique(y, return_counts=True)\n",
    "most_frequent_value_y = unique_values_y[np.argmax(counts_y)]\n",
    "indices_y = np.where(y == most_frequent_value_y)[0]\n",
    "\n",
    "print(\"\\nFor array y:\")\n",
    "print(\"Most frequent value:\", most_frequent_value_y)\n",
    "print(\"Indices:\", indices_y)\n"
   ]
  },
  {
   "cell_type": "code",
   "execution_count": 18,
   "id": "029e9c2f",
   "metadata": {},
   "outputs": [
    {
     "name": "stdout",
     "output_type": "stream",
     "text": [
      "45\n",
      "[[14]\n",
      " [16]\n",
      " [15]]\n",
      "[[20  9 16]]\n"
     ]
    }
   ],
   "source": [
    "# 4. For the array gfg = np.matrix('[4, 1, 9; 12, 3, 1; 4, 5, 6]'),\n",
    "# find \n",
    "# i. Sum of all elements\n",
    "# ii. Sum of all elements row-wise\n",
    "# iii. Sum of all elements column-wise\n",
    "gfg = np.matrix('[4, 1, 9; 12, 3, 1; 4, 5, 6]')\n",
    "print(gfg.sum())\n",
    "print(gfg.sum(axis=1)) #row wise sum\n",
    "print(gfg.sum(axis=0)) #column wise sum"
   ]
  },
  {
   "cell_type": "code",
   "execution_count": null,
   "id": "6a0880e7",
   "metadata": {},
   "outputs": [],
   "source": []
  },
  {
   "cell_type": "code",
   "execution_count": null,
   "id": "009aff57",
   "metadata": {},
   "outputs": [],
   "source": []
  },
  {
   "cell_type": "code",
   "execution_count": null,
   "id": "aa6472b0",
   "metadata": {},
   "outputs": [],
   "source": []
  },
  {
   "cell_type": "code",
   "execution_count": null,
   "id": "08f85944",
   "metadata": {},
   "outputs": [],
   "source": []
  },
  {
   "cell_type": "code",
   "execution_count": null,
   "id": "420fb127",
   "metadata": {},
   "outputs": [],
   "source": []
  },
  {
   "cell_type": "code",
   "execution_count": null,
   "id": "8112b8f8",
   "metadata": {},
   "outputs": [],
   "source": []
  },
  {
   "cell_type": "code",
   "execution_count": null,
   "id": "ab4b473e",
   "metadata": {},
   "outputs": [],
   "source": []
  },
  {
   "cell_type": "code",
   "execution_count": null,
   "id": "8dceb079",
   "metadata": {},
   "outputs": [],
   "source": []
  }
 ],
 "metadata": {
  "kernelspec": {
   "display_name": "Python 3 (ipykernel)",
   "language": "python",
   "name": "python3"
  },
  "language_info": {
   "codemirror_mode": {
    "name": "ipython",
    "version": 3
   },
   "file_extension": ".py",
   "mimetype": "text/x-python",
   "name": "python",
   "nbconvert_exporter": "python",
   "pygments_lexer": "ipython3",
   "version": "3.10.9"
  }
 },
 "nbformat": 4,
 "nbformat_minor": 5
}
